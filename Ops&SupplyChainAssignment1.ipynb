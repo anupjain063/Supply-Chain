{
  "cells": [
    {
      "cell_type": "markdown",
      "metadata": {
        "id": "lwsdygACVlfp"
      },
      "source": [
        "# **Question 3**"
      ]
    },
    {
      "cell_type": "code",
      "execution_count": 4,
      "metadata": {
        "colab": {
          "base_uri": "https://localhost:8080/"
        },
        "id": "FYyFvY43VnuD",
        "outputId": "094112a7-ea3b-413a-ef49-aad490b9fbb4"
      },
      "outputs": [
        {
          "name": "stdout",
          "output_type": "stream",
          "text": [
            " NPV for Centralized Storage (Coos Bay) (with trailer costs, tax, depreciation, and resale): $81.78 Million\n",
            " NPV for Decentralized Storage (Satellite Tanks) (with tax and depreciation): $50.22 Million\n",
            " Centralized Storage (Coos Bay) is the better financial choice based on NPV.\n"
          ]
        }
      ],
      "source": [
        "import numpy as np\n",
        "\n",
        "discount_rate = 0.15\n",
        "years = 25\n",
        "tax_rate = 0.25\n",
        "\n",
        "cost_coos_bay = 9.5\n",
        "cost_trailers = 5.65\n",
        "annual_trailer_cost = 6.5\n",
        "annual_cash_flow = 25.6\n",
        "cost_satellite_tanks = 79\n",
        "\n",
        "depreciation_tanks = cost_satellite_tanks / years\n",
        "depreciation_trailers = cost_trailers / 10\n",
        "\n",
        "def calculate_npv(initial_investment, annual_cash_flow, discount_rate, years, annual_operating_cost, depreciation_tanks, depreciation_trailers, resale_value, trailer_replacement_years):\n",
        "    npv = -initial_investment\n",
        "    for t in range(1, years + 1):\n",
        "        total_depreciation = depreciation_tanks\n",
        "        if t <= 10 or (10 < t <= 20):\n",
        "            total_depreciation += depreciation_trailers\n",
        "\n",
        "        taxable_income = annual_cash_flow - annual_operating_cost - total_depreciation\n",
        "        after_tax_cash_flow = annual_cash_flow - annual_operating_cost - (tax_rate * taxable_income)\n",
        "\n",
        "        if t in trailer_replacement_years:\n",
        "            after_tax_cash_flow -= cost_trailers\n",
        "\n",
        "        npv += after_tax_cash_flow / ((1 + discount_rate) ** t)\n",
        "    npv += resale_value / ((1 + discount_rate) ** years)\n",
        "    return npv\n",
        "\n",
        "resale_value_trailers = cost_trailers * 0.5\n",
        "trailer_replacement_years = [10, 20]\n",
        "\n",
        "npv_coos_bay = calculate_npv(cost_coos_bay + cost_trailers, annual_cash_flow, discount_rate, years, annual_trailer_cost, depreciation_tanks, depreciation_trailers, resale_value_trailers, trailer_replacement_years)\n",
        "npv_satellite_tanks = calculate_npv(cost_satellite_tanks, annual_cash_flow, discount_rate, years, 0, depreciation_tanks, 0, 0, [])\n",
        "\n",
        "print(f\" NPV for Centralized Storage (Coos Bay) (with trailer costs, tax, depreciation, and resale): ${npv_coos_bay:.2f} Million\")\n",
        "print(f\" NPV for Decentralized Storage (Satellite Tanks) (with tax and depreciation): ${npv_satellite_tanks:.2f} Million\")\n",
        "\n",
        "if npv_coos_bay > npv_satellite_tanks:\n",
        "    print(\" Centralized Storage (Coos Bay) is the better financial choice based on NPV.\")\n",
        "else:\n",
        "    print(\" Decentralized Storage (Satellite Tanks) is the better financial choice based on NPV.\")"
      ]
    }
  ],
  "metadata": {
    "colab": {
      "provenance": []
    },
    "kernelspec": {
      "display_name": "Python 3",
      "name": "python3"
    },
    "language_info": {
      "name": "python",
      "version": "3.12.6"
    }
  },
  "nbformat": 4,
  "nbformat_minor": 0
}
