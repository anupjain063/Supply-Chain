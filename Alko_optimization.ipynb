{
  "cells": [
    {
      "cell_type": "markdown",
      "metadata": {
        "colab_type": "text",
        "id": "view-in-github"
      },
      "source": [
        "<a href=\"https://colab.research.google.com/github/deepakawl/supplychain-analytics-teaching/blob/main/Alko_optimization.ipynb\" target=\"_parent\"><img src=\"https://colab.research.google.com/assets/colab-badge.svg\" alt=\"Open In Colab\"/></a>"
      ]
    },
    {
      "cell_type": "markdown",
      "metadata": {
        "id": "7Sntj4jLka3o"
      },
      "source": [
        "Alko case, 46-893 Operations and Supply Chain Analytics, CMU-Tepper School of Business"
      ]
    },
    {
      "cell_type": "markdown",
      "metadata": {
        "id": "u3fOKGYokZlf"
      },
      "source": []
    },
    {
      "cell_type": "code",
      "execution_count": 1,
      "metadata": {},
      "outputs": [
        {
          "name": "stdout",
          "output_type": "stream",
          "text": [
            "\n",
            "Correlation: 0\n",
            "Minimum Cost      : $124,911.44\n",
            "CDC Cost          : $66,725.65\n",
            "Investment Needed : $133,451.30\n",
            "Centralization Matrix:\n",
            "[[1. 1. 1. 1. 1.]\n",
            " [1. 1. 1. 1. 1.]\n",
            " [1. 1. 1. 1. 1.]]\n",
            "\n",
            "Correlation: 0.5\n",
            "Minimum Cost      : $141,057.20\n",
            "CDC Cost          : $53,775.45\n",
            "Investment Needed : $107,550.90\n",
            "Centralization Matrix:\n",
            "[[0. 1. 1. 1. 1.]\n",
            " [1. 1. 1. 1. 1.]\n",
            " [1. 1. 1. 1. 1.]]\n",
            "\n",
            "Correlation: 1\n",
            "Minimum Cost      : $147,790.51\n",
            "CDC Cost          : $8,252.65\n",
            "Investment Needed : $16,505.30\n",
            "Centralization Matrix:\n",
            "[[0. 1. 1. 1. 1.]\n",
            " [0. 0. 0. 0. 0.]\n",
            " [0. 0. 0. 0. 0.]]\n"
          ]
        }
      ],
      "source": [
        "import numpy as np\n",
        "import pandas as pd\n",
        "import math\n",
        "import scipy.stats as st\n",
        "from scipy.optimize import minimize\n",
        "\n",
        "# Load Excel data\n",
        "xls = pd.ExcelFile(\"Alko_students.xlsx\")\n",
        "df = xls.parse('Template')\n",
        "\n",
        "# Extract demand data\n",
        "region_blocks = [9, 16, 23, 30, 37]  # starting rows of demand blocks\n",
        "product_ids = [1, 3, 7]  # 3 parts to analyze\n",
        "\n",
        "avg_demand_matrix = np.zeros((3, 5))\n",
        "std_demand_matrix = np.zeros((3, 5))\n",
        "num_demand_matrix = np.zeros((3, 5))\n",
        "\n",
        "for j, start_row in enumerate(region_blocks):\n",
        "    block = df.iloc[start_row:start_row+3, [2, 3, 4]].dropna()\n",
        "    block.columns = ['Part', 'Mean', 'Std dev']\n",
        "    for i, pid in enumerate(product_ids):\n",
        "        match = block[block['Part'] == pid]\n",
        "        if not match.empty:\n",
        "            avg_demand_matrix[i, j] = match['Mean'].values[0]\n",
        "            std_demand_matrix[i, j] = match['Std dev'].values[0]\n",
        "            num_demand_matrix[i, j] = pid  # simply treat Part ID as a proxy for units/year\n",
        "\n",
        "# Parameters\n",
        "days = 365\n",
        "h = 0.15\n",
        "tc = 0.19\n",
        "ctc = 0.29\n",
        "L = 5\n",
        "T = 6\n",
        "csl = 0.95\n",
        "\n",
        "# Optimization function\n",
        "def compute_cost(corr, avg_demand, std_demand, num_demand):\n",
        "    n_parts, n_regions = avg_demand.shape\n",
        "    corr_matrix = np.full((n_regions, n_regions), corr)\n",
        "    np.fill_diagonal(corr_matrix, 1)\n",
        "\n",
        "    def objective_function(flat_matrix):\n",
        "        centralize = flat_matrix.reshape((n_parts, n_regions))\n",
        "        agg_std = np.diag(np.dot(np.dot(np.multiply(std_demand, centralize), corr_matrix),\n",
        "                                 np.transpose(np.multiply(std_demand, centralize))))\n",
        "        sqrt_agg_std = np.sqrt(agg_std)\n",
        "        sum_cols = np.sum(centralize, axis=1, keepdims=True)\n",
        "        sum_cols[sum_cols == 0] = 1\n",
        "        inv_sum_cols = 1 / sum_cols\n",
        "        sqrt_agg_std2 = np.repeat(sqrt_agg_std.reshape(n_parts, 1), n_regions, axis=1)\n",
        "        inv_sum_cols2 = np.repeat(inv_sum_cols.reshape(n_parts, 1), n_regions, axis=1)\n",
        "        updated_std = centralize * inv_sum_cols2 * sqrt_agg_std2 + (1 - centralize) * std_demand\n",
        "\n",
        "        total_cost = sum(\n",
        "            days * num_demand[i, j] *\n",
        "            (h * (st.norm.ppf(csl) * updated_std[i, j] * math.sqrt(T + L) +\n",
        "                  avg_demand[i, j] * (T/2 + L)) +\n",
        "             (avg_demand[i, j] * (centralize[i, j] * ctc + (1 - centralize[i, j]) * tc))\n",
        "        ) for i in range(n_parts) for j in range(n_regions))\n",
        "\n",
        "        return total_cost\n",
        "\n",
        "    initial_guess = np.full((n_parts * n_regions,), 0.5)\n",
        "    bounds = [(0, 1)] * len(initial_guess)\n",
        "    constraints = ({'type': 'ineq', 'fun': lambda x: [xi * (1 - xi) for xi in x]})\n",
        "\n",
        "    result = minimize(objective_function, initial_guess, bounds=bounds, constraints=constraints)\n",
        "    optimal_matrix = np.round(result.x.reshape((n_parts, n_regions)))\n",
        "    centralized_cost = days * sum(\n",
        "        num_demand[i, j] * avg_demand[i, j] * optimal_matrix[i, j]\n",
        "        for i in range(n_parts)\n",
        "        for j in range(n_regions)\n",
        "    )\n",
        "    investment = centralized_cost * 2 if centralized_cost <= 400000 else (800000 + (centralized_cost - 400000) * 1.5)\n",
        "    return {\n",
        "        \"correlation\": corr,\n",
        "        \"min_cost\": result.fun,\n",
        "        \"cdc_cost\": centralized_cost,\n",
        "        \"investment\": investment,\n",
        "        \"matrix\": optimal_matrix\n",
        "    }\n",
        "\n",
        "# Run for correlation levels\n",
        "for corr_val in [0, 0.5, 1]:\n",
        "    result = compute_cost(corr_val, avg_demand_matrix, std_demand_matrix, num_demand_matrix)\n",
        "    print(f\"\\nCorrelation: {corr_val}\")\n",
        "    print(f\"Minimum Cost      : ${result['min_cost']:,.2f}\")\n",
        "    print(f\"CDC Cost          : ${result['cdc_cost']:,.2f}\")\n",
        "    print(f\"Investment Needed : ${result['investment']:,.2f}\")\n",
        "    print(\"Centralization Matrix:\")\n",
        "    print(result[\"matrix\"])\n"
      ]
    }
  ],
  "metadata": {
    "colab": {
      "include_colab_link": true,
      "provenance": []
    },
    "kernelspec": {
      "display_name": "Python 3",
      "name": "python3"
    },
    "language_info": {
      "codemirror_mode": {
        "name": "ipython",
        "version": 3
      },
      "file_extension": ".py",
      "mimetype": "text/x-python",
      "name": "python",
      "nbconvert_exporter": "python",
      "pygments_lexer": "ipython3",
      "version": "3.12.6"
    }
  },
  "nbformat": 4,
  "nbformat_minor": 0
}
