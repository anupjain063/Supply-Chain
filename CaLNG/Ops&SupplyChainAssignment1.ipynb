{
  "cells": [
    {
      "cell_type": "markdown",
      "metadata": {
        "id": "lwsdygACVlfp"
      },
      "source": [
        "# **Question 3**"
      ]
    },
    {
      "cell_type": "code",
      "execution_count": 2,
      "metadata": {
        "colab": {
          "base_uri": "https://localhost:8080/"
        },
        "id": "FYyFvY43VnuD",
        "outputId": "0bcf62c3-f964-4bdd-f087-5c99801957ac"
      },
      "outputs": [
        {
          "name": "stdout",
          "output_type": "stream",
          "text": [
            " NPV for Centralized Storage (Coos Bay): $118.98 Million\n",
            " NPV for Decentralized Storage (Satellite Tanks): $49.48 Million\n",
            " Centralized Storage (Coos Bay) is the better financial choice based on NPV.\n"
          ]
        }
      ],
      "source": [
        "import numpy as np\n",
        "\n",
        "discount_rate = 0.15\n",
        "years = 10\n",
        "\n",
        "cost_coos_bay = 9.5\n",
        "annual_cash_flow = 25.6\n",
        "\n",
        "cost_satellite_tanks = 79\n",
        "\n",
        "def calculate_npv(initial_investment, annual_cash_flow, discount_rate, years):\n",
        "    npv = -initial_investment\n",
        "    for t in range(1, years + 1):\n",
        "        npv += annual_cash_flow / ((1 + discount_rate) ** t)\n",
        "    return npv\n",
        "\n",
        "npv_coos_bay = calculate_npv(cost_coos_bay, annual_cash_flow, discount_rate, years)\n",
        "npv_satellite_tanks = calculate_npv(cost_satellite_tanks, annual_cash_flow, discount_rate, years)\n",
        "\n",
        "print(f\" NPV for Centralized Storage (Coos Bay): ${npv_coos_bay:.2f} Million\")\n",
        "print(f\" NPV for Decentralized Storage (Satellite Tanks): ${npv_satellite_tanks:.2f} Million\")\n",
        "\n",
        "if npv_coos_bay > npv_satellite_tanks:\n",
        "    print(\" Centralized Storage (Coos Bay) is the better financial choice based on NPV.\")\n",
        "else:\n",
        "    print(\" Decentralized Storage (Satellite Tanks) is the better financial choice based on NPV.\")"
      ]
    }
  ],
  "metadata": {
    "colab": {
      "provenance": []
    },
    "kernelspec": {
      "display_name": "Python 3",
      "name": "python3"
    },
    "language_info": {
      "codemirror_mode": {
        "name": "ipython",
        "version": 3
      },
      "file_extension": ".py",
      "mimetype": "text/x-python",
      "name": "python",
      "nbconvert_exporter": "python",
      "pygments_lexer": "ipython3",
      "version": "3.12.6"
    }
  },
  "nbformat": 4,
  "nbformat_minor": 0
}
